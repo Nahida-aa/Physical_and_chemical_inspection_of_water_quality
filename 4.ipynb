{
 "cells": [
  {
   "cell_type": "code",
   "execution_count": 1,
   "metadata": {},
   "outputs": [],
   "source": [
    "# \"conda python 3.11.7\"\n",
    "# -*- coding: utf-8 -*-\n",
    "import matplotlib\n",
    "# 设置字体参数\n",
    "matplotlib.rcParams['font.sans-serif'] = ['SimHei']\n",
    "matplotlib.rcParams['axes.unicode_minus'] = False"
   ]
  },
  {
   "cell_type": "markdown",
   "metadata": {},
   "source": [
    "# 空气中二氧化硫的测定\n",
    "## TOC"
   ]
  },
  {
   "cell_type": "markdown",
   "metadata": {},
   "source": [
    "## 计算公式\n",
    "\n",
    "$按式(1)将采样体积换算成标准采样体积:$\n",
    "$$\n",
    "\\begin{align*}\n",
    "V_{0}&=V\\times\\frac{293}{273+t}\\times\\frac{p}{101.3} \\tag{1}\n",
    "\\\\ \\quad \\\\\n",
    "&=0.5L/min \\times 15min \\times \\frac{293}{273+25} \\times \\frac{100.7}{101.3} \\\\\\quad\\\\\n",
    "&=7.330483910505707 L\n",
    "\\end{align*}\n",
    "$$\n",
    "$\\hspace{1cm}式中：$\n",
    "\n",
    "$\\hspace{2cm} V_0——标准采样体积，(L);\\\\$\n",
    "$\\hspace{2cm}V——采样体积，(L);\\\\$\n",
    "$\\hspace{2cm}t——采样点的温度，(^0C);\\\\$\n",
    "$\\hspace{2cm}p——采样点的大气压，(kPa)。$\n",
    "\n",
    "$按公式(2)计算空气中二氧化硫的浓度:$\n",
    "$$\n",
    "C=\\frac{10m}{V_{0}} \\tag{2}\n",
    "$$\n",
    "$\\hspace{1cm}式中：$\n",
    "\n",
    "$\\hspace{2cm}C——空气中SO_2的浓度，(mg/m^3); \\\\$\n",
    "$\\hspace{2cm}10——样品吸收液的总体积，(mL);\\\\$\n",
    "$\\hspace{2cm}m——测得的样品吸收液中二氧化硫的含量(减去样品空白),(μg);\\\\$\n",
    "$\\hspace{2cm}V_0——标准采样体积，(L)。$"
   ]
  },
  {
   "cell_type": "code",
   "execution_count": 2,
   "metadata": {},
   "outputs": [
    {
     "data": {
      "text/plain": [
       "7.330483910505707"
      ]
     },
     "execution_count": 2,
     "metadata": {},
     "output_type": "execute_result"
    }
   ],
   "source": [
    "0.5*15*(293/298)*(100.7/101.3)"
   ]
  },
  {
   "cell_type": "markdown",
   "metadata": {},
   "source": [
    "## init data\n",
    "\n",
    "并绘制表格"
   ]
  },
  {
   "cell_type": "code",
   "execution_count": 23,
   "metadata": {},
   "outputs": [
    {
     "ename": "AttributeError",
     "evalue": "'DataFrame' object has no attribute 'append'",
     "output_type": "error",
     "traceback": [
      "\u001b[1;31m---------------------------------------------------------------------------\u001b[0m",
      "\u001b[1;31mAttributeError\u001b[0m                            Traceback (most recent call last)",
      "\u001b[1;32m~\\AppData\\Local\\Temp\\ipykernel_39144\\2027568422.py\u001b[0m in \u001b[0;36m?\u001b[1;34m()\u001b[0m\n\u001b[0;32m     15\u001b[0m \u001b[1;31m# 绘制table\u001b[0m\u001b[1;33m\u001b[0m\u001b[1;33m\u001b[0m\u001b[0m\n\u001b[0;32m     16\u001b[0m \u001b[1;32mimport\u001b[0m \u001b[0mpandas\u001b[0m \u001b[1;32mas\u001b[0m \u001b[0mpd\u001b[0m\u001b[1;33m\u001b[0m\u001b[1;33m\u001b[0m\u001b[0m\n\u001b[0;32m     17\u001b[0m \u001b[0mdf\u001b[0m \u001b[1;33m=\u001b[0m \u001b[0mpd\u001b[0m\u001b[1;33m.\u001b[0m\u001b[0mDataFrame\u001b[0m\u001b[1;33m(\u001b[0m\u001b[1;33m{\u001b[0m\u001b[1;34m'二氧化硫含量 C '\u001b[0m \u001b[1;33m+\u001b[0m \u001b[1;34mr'$(\\mu g)$'\u001b[0m\u001b[1;33m:\u001b[0m \u001b[0mm_x_1\u001b[0m\u001b[1;33m,\u001b[0m \u001b[1;34m'吸光度 A'\u001b[0m\u001b[1;33m:\u001b[0m \u001b[0mA_y_1\u001b[0m\u001b[1;33m}\u001b[0m\u001b[1;33m)\u001b[0m\u001b[1;33m\u001b[0m\u001b[1;33m\u001b[0m\u001b[0m\n\u001b[0;32m     18\u001b[0m \u001b[0mnew_row\u001b[0m \u001b[1;33m=\u001b[0m \u001b[0mpd\u001b[0m\u001b[1;33m.\u001b[0m\u001b[0mDataFrame\u001b[0m\u001b[1;33m(\u001b[0m\u001b[1;33m{\u001b[0m\u001b[1;34m'二氧化硫含量 C '\u001b[0m \u001b[1;33m+\u001b[0m \u001b[1;34mr'$(\\mu g)$'\u001b[0m\u001b[1;33m:\u001b[0m \u001b[1;33m[\u001b[0m\u001b[1;34m'待预测'\u001b[0m\u001b[1;33m]\u001b[0m\u001b[1;33m,\u001b[0m \u001b[1;34m'吸光度 A'\u001b[0m\u001b[1;33m:\u001b[0m \u001b[1;33m[\u001b[0m\u001b[0mA_y_1s\u001b[0m\u001b[1;33m]\u001b[0m\u001b[1;33m}\u001b[0m\u001b[1;33m,\u001b[0m \u001b[0mindex\u001b[0m\u001b[1;33m=\u001b[0m\u001b[1;33m[\u001b[0m\u001b[1;34m'样本'\u001b[0m\u001b[1;33m]\u001b[0m\u001b[1;33m)\u001b[0m\u001b[1;33m\u001b[0m\u001b[1;33m\u001b[0m\u001b[0m\n\u001b[1;32m---> 19\u001b[1;33m \u001b[0mdf\u001b[0m \u001b[1;33m=\u001b[0m \u001b[0mdf\u001b[0m\u001b[1;33m.\u001b[0m\u001b[0mappend\u001b[0m\u001b[1;33m(\u001b[0m\u001b[0mnew_row\u001b[0m\u001b[1;33m)\u001b[0m\u001b[1;33m\u001b[0m\u001b[1;33m\u001b[0m\u001b[0m\n\u001b[0m\u001b[0;32m     20\u001b[0m \u001b[1;31m# 打印数据框\u001b[0m\u001b[1;33m\u001b[0m\u001b[1;33m\u001b[0m\u001b[0m\n\u001b[0;32m     21\u001b[0m \u001b[1;31m# df.T\u001b[0m\u001b[1;33m\u001b[0m\u001b[1;33m\u001b[0m\u001b[0m\n\u001b[0;32m     22\u001b[0m \u001b[1;31m# print(df.T.to_markdown().replace(\"|-\", \"|:\").replace(\"-|\", \":|\"))\u001b[0m\u001b[1;33m\u001b[0m\u001b[1;33m\u001b[0m\u001b[0m\n",
      "\u001b[1;32md:\\anaconda3\\Lib\\site-packages\\pandas\\core\\generic.py\u001b[0m in \u001b[0;36m?\u001b[1;34m(self, name)\u001b[0m\n\u001b[0;32m   6200\u001b[0m             \u001b[1;32mand\u001b[0m \u001b[0mname\u001b[0m \u001b[1;32mnot\u001b[0m \u001b[1;32min\u001b[0m \u001b[0mself\u001b[0m\u001b[1;33m.\u001b[0m\u001b[0m_accessors\u001b[0m\u001b[1;33m\u001b[0m\u001b[1;33m\u001b[0m\u001b[0m\n\u001b[0;32m   6201\u001b[0m             \u001b[1;32mand\u001b[0m \u001b[0mself\u001b[0m\u001b[1;33m.\u001b[0m\u001b[0m_info_axis\u001b[0m\u001b[1;33m.\u001b[0m\u001b[0m_can_hold_identifiers_and_holds_name\u001b[0m\u001b[1;33m(\u001b[0m\u001b[0mname\u001b[0m\u001b[1;33m)\u001b[0m\u001b[1;33m\u001b[0m\u001b[1;33m\u001b[0m\u001b[0m\n\u001b[0;32m   6202\u001b[0m         ):\n\u001b[0;32m   6203\u001b[0m             \u001b[1;32mreturn\u001b[0m \u001b[0mself\u001b[0m\u001b[1;33m[\u001b[0m\u001b[0mname\u001b[0m\u001b[1;33m]\u001b[0m\u001b[1;33m\u001b[0m\u001b[1;33m\u001b[0m\u001b[0m\n\u001b[1;32m-> 6204\u001b[1;33m         \u001b[1;32mreturn\u001b[0m \u001b[0mobject\u001b[0m\u001b[1;33m.\u001b[0m\u001b[0m__getattribute__\u001b[0m\u001b[1;33m(\u001b[0m\u001b[0mself\u001b[0m\u001b[1;33m,\u001b[0m \u001b[0mname\u001b[0m\u001b[1;33m)\u001b[0m\u001b[1;33m\u001b[0m\u001b[1;33m\u001b[0m\u001b[0m\n\u001b[0m",
      "\u001b[1;31mAttributeError\u001b[0m: 'DataFrame' object has no attribute 'append'"
     ]
    }
   ],
   "source": [
    "import numpy as np\n",
    "# A -> B 二氧化硫含量 m (\\mu g)\n",
    "m_x_1 = np.array([0, 2, 4, 8, 12, 16])\n",
    "# A -> B 吸光度 A\n",
    "A_y_1 = np.array([0.086, 0.143, 0.187, 0.211, 0.248, 0.289])\n",
    "# A -> B 样品 吸光度 A\n",
    "A_y_1s = 0.102\n",
    "# B -> A 二氧化硫含量 m (\\mu g)\n",
    "m_x_2 = np.array([0, 2, 4, 8, 12, 16])\n",
    "# B -> A 吸光度 A\n",
    "A_y_2 = np.array([0.073, 0.106, 0.203, 0.270, 0.380, 0.485])\n",
    "# B -> A 样品 吸光度 A\n",
    "A_y_2s = 0.091\n",
    "\n",
    "# 绘制table\n",
    "import pandas as pd\n",
    "df = pd.DataFrame({'二氧化硫含量 C ' + r'$(\\mu g)$': m_x_1, '吸光度 A': A_y_1})\n",
    "new_row = pd.DataFrame({'二氧化硫含量 C ' + r'$(\\mu g)$': ['待预测'], '吸光度 A': [A_y_1s]}, index=['样本'])\n",
    "df = df.append(new_row)\n",
    "# 打印数据框\n",
    "# df.T\n",
    "# print(df.T.to_markdown().replace(\"|-\", \"|:\").replace(\"-|\", \":|\"))"
   ]
  },
  {
   "cell_type": "markdown",
   "metadata": {},
   "source": [
    "### 数据表格\n",
    "\n",
    "A -> B 数据:\n",
    "\n",
    "|                          |     0 |     1 |     2 |     3 |      4 |      5 | 样本   |\n",
    "|:------------------------:|:-----:|:-----:|:-----:|:-----:|:------:|:------:|:------:|\n",
    "| 二氧化硫含量 C $(\\mu g)$ | 0     | 2     | 4     | 8     | 12     | 16     | 待预测 |\n",
    "| 吸光度 A                 | 0.086 | 0.143 | 0.187 | 0.211 |  0.248 |  0.289 | 0.102  |"
   ]
  }
 ],
 "metadata": {
  "kernelspec": {
   "display_name": "base",
   "language": "python",
   "name": "python3"
  },
  "language_info": {
   "codemirror_mode": {
    "name": "ipython",
    "version": 3
   },
   "file_extension": ".py",
   "mimetype": "text/x-python",
   "name": "python",
   "nbconvert_exporter": "python",
   "pygments_lexer": "ipython3",
   "version": "3.10.14"
  }
 },
 "nbformat": 4,
 "nbformat_minor": 2
}
