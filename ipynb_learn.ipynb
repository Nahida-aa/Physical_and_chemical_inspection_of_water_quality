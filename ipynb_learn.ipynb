{
 "cells": [
  {
   "cell_type": "code",
   "execution_count": null,
   "metadata": {},
   "outputs": [],
   "source": []
  },
  {
   "cell_type": "markdown",
   "metadata": {},
   "source": [
    "# ipynb_learn\n",
    "\n",
    "## markdown\n",
    "\n",
    "##### table demo\n",
    "<table>\n",
    "  <tr>\n",
    "    <th>列1</th>\n",
    "    <th>列2</th>\n",
    "    <th>列3</th>\n",
    "  </tr>\n",
    "  <tr>\n",
    "    <td>数据1</td>\n",
    "    <td>数据2</td>\n",
    "    <td>数据3</td>\n",
    "  </tr>\n",
    "  <tr>\n",
    "    <td>数据4</td>\n",
    "    <td>数据5</td>\n",
    "    <td>数据6</td>\n",
    "  </tr>\n",
    "</table>\n",
    "\n",
    "### KaTeX"
   ]
  }
 ],
 "metadata": {
  "language_info": {
   "name": "python"
  }
 },
 "nbformat": 4,
 "nbformat_minor": 2
}
