{
 "cells": [
  {
   "cell_type": "code",
   "execution_count": null,
   "metadata": {},
   "outputs": [],
   "source": []
  },
  {
   "cell_type": "markdown",
   "metadata": {},
   "source": [
    "# ipynb_learn\n",
    "\n",
    "## markdown\n",
    "\n",
    "##### table demo\n",
    "<table>\n",
    "  <tr>\n",
    "    <th>列1</th>\n",
    "    <th>列2</th>\n",
    "    <th>列3</th>\n",
    "  </tr>\n",
    "  <tr>\n",
    "    <td>数据1</td>\n",
    "    <td>数据2</td>\n",
    "    <td>数据3</td>\n",
    "  </tr>\n",
    "  <tr>\n",
    "    <td>数据4</td>\n",
    "    <td>数据5</td>\n",
    "    <td>数据6</td>\n",
    "  </tr>\n",
    "</table>\n",
    "\n",
    "### KaTeX"
   ]
  },
  {
   "cell_type": "code",
   "execution_count": null,
   "metadata": {},
   "outputs": [],
   "source": []
  },
  {
   "cell_type": "markdown",
   "metadata": {},
   "source": [
    "## err\n",
    "\n",
    "Pandas在2.0版本后已经弃用了append方法\n",
    "\n",
    "1. 使用`_append`方法。但是请注意，通常来说，以单下划线开头的方法在Python中被视为是“内部使用”的，不建议直接在代码中调用。这些方法可能在未来的版本中发生改变或者被移除。\n",
    "```py\n",
    "dataframe = dataframe._append(other_dataframe)\n",
    "```\n",
    "2. 使用`pandas.concat()`方法。这是一个更通用的方法，可以用来合并两个或多个DataFrame。这个方法在所有版本的Pandas中都是可用的。\n",
    "```py\n",
    "dataframe = pandas.concat([dataframe, other_dataframe])\n",
    "```\n",
    "在这两种方法中，我建议使用pandas.concat()，因为这个方法更通用，也更不容易在未来的版本中被改变或移除。"
   ]
  }
 ],
 "metadata": {
  "language_info": {
   "name": "python"
  }
 },
 "nbformat": 4,
 "nbformat_minor": 2
}
