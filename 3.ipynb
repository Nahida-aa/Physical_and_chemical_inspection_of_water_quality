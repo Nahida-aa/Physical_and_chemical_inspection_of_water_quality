{
 "cells": [
  {
   "cell_type": "code",
   "execution_count": null,
   "metadata": {},
   "outputs": [],
   "source": [
    "# \"conda python 3.11.7\"\n",
    "# -*- coding: utf-8 -*-\n",
    "import matplotlib\n",
    "# 设置字体参数\n",
    "matplotlib.rcParams['font.sans-serif'] = ['SimHei']\n",
    "matplotlib.rcParams['axes.unicode_minus'] = False"
   ]
  },
  {
   "cell_type": "markdown",
   "metadata": {},
   "source": [
    "# 空气中铅(Pb)的测定\n",
    "\n",
    "## 目录\n",
    "\n",
    "- [实验数据](#实验数据)\n",
    "- [init data](#init-data)\n",
    "- [计算回归方程](#计算回归方程)\n",
    "  - [其他参数](#其他参数)\n",
    "- [相关资料](#相关资料)\n",
    "  - [国标](#国标)\n",
    "  - [learn 吸光度](#learn-吸光度)\n",
    "\n",
    "\n",
    "## 实验数据\n",
    "\n",
    "$$\n",
    "\\hspace{1cm} C = \\frac{V_t \\cdot C_0}{V_0} \\hspace{9cm}\n",
    "$$\n",
    "\n",
    "式中:\n",
    "$$\n",
    "\\begin{array}{ll}\n",
    "C & \\text{-----} \\text{空气中铅的浓度，}mg/m^3 \\\\\n",
    "V_t & \\text{-----} \\text{样品溶液的体积，}ml \\\\\n",
    "C_0 & \\text{-----} \\text{测得的样品溶液中铅的浓度(减去样品空白)，}\\mu g/ml \\\\\n",
    "V_0 & \\text{-----} \\text{标准采样体积，L} \\\\\n",
    "\\end{array}\n",
    "$$\n",
    "\n",
    "**标准系列**\n",
    "\n",
    "|                |   0    |   1    |   2    |   3    |   4    |   5    |\n",
    "|:---------------|:------:|:------:|:------:|:------:|:------:|:------:|\n",
    "| 浓度 C ($\\mu g/ml$) |   0    |   2    |   4    |   6    |   8    |   10   |\n",
    "| 吸光度 A       | 0.0001 | 0.0363 | 0.0716 | 0.1002 | 0.1377 | 0.1702 |\n",
    "\n",
    "测得的样品吸光度:\n",
    "\n",
    "$$\n",
    "A_0 = 0.0088\n",
    "$$"
   ]
  },
  {
   "cell_type": "markdown",
   "metadata": {},
   "source": [
    "## init data\n",
    "\n",
    "并打印表格"
   ]
  },
  {
   "cell_type": "code",
   "execution_count": null,
   "metadata": {},
   "outputs": [],
   "source": [
    "import numpy as np\n",
    "\n",
    "# 标准系列\n",
    "# 吸光度 A\n",
    "a_x = np.array([0.0001, 0.0363, 0.0716, 0.1002, 0.1377, 0.1702])\n",
    "# 浓度 ug/ml\n",
    "c_y = np.array([0, 2, 4, 6, 8, 10])\n",
    "# 样品 吸光度 A\n",
    "a_0 = 0.0088\n",
    "\n",
    "# 绘制表格\n",
    "import pandas as pd\n",
    "# 创建一个数据框\n",
    "df = pd.DataFrame({'浓度 C ' + r'$(\\mu g/ml)$': c_y, '吸光度 A': a_x})\n",
    "# 打印数据框\n",
    "df_T = df.T\n",
    "# print(df_T)\n",
    "# 使用pandas生成HTML表格\n",
    "# print(df_T.to_html())\n",
    "from IPython.display import display, HTML, Math, Markdown\n",
    "# 使用display函数显示HTML表格\n",
    "# display(HTML(df_T.to_html()))\n",
    "display(Markdown(df_T.to_markdown()))\n",
    "\n",
    "# 使用tabulate打印居中对齐的表格\n",
    "from tabulate import tabulate\n",
    "# print(tabulate(df_T, headers='keys', tablefmt='psql', showindex=True, numalign=\"center\"))\n",
    "# print(tabulate(df_T, headers='keys', tablefmt='pipe', showindex=True, numalign=\"center\"))"
   ]
  },
  {
   "cell_type": "markdown",
   "metadata": {},
   "source": [
    "## 计算回归方程\n",
    "\n",
    "并预测吸光度为0.0088时的浓度"
   ]
  },
  {
   "cell_type": "code",
   "execution_count": 1,
   "metadata": {},
   "outputs": [
    {
     "ename": "ModuleNotFoundError",
     "evalue": "No module named 'seaborn'",
     "output_type": "error",
     "traceback": [
      "\u001b[1;31m---------------------------------------------------------------------------\u001b[0m",
      "\u001b[1;31mModuleNotFoundError\u001b[0m                       Traceback (most recent call last)",
      "Cell \u001b[1;32mIn[1], line 3\u001b[0m\n\u001b[0;32m      1\u001b[0m \u001b[38;5;66;03m# 计算回归方程 y = kx + b\u001b[39;00m\n\u001b[0;32m      2\u001b[0m \u001b[38;5;28;01mfrom\u001b[39;00m \u001b[38;5;21;01mscipy\u001b[39;00m \u001b[38;5;28;01mimport\u001b[39;00m stats\n\u001b[1;32m----> 3\u001b[0m \u001b[38;5;28;01mimport\u001b[39;00m \u001b[38;5;21;01mseaborn\u001b[39;00m \u001b[38;5;28;01mas\u001b[39;00m \u001b[38;5;21;01msns\u001b[39;00m\n\u001b[0;32m      4\u001b[0m \u001b[38;5;28;01mimport\u001b[39;00m \u001b[38;5;21;01mmatplotlib\u001b[39;00m\u001b[38;5;21;01m.\u001b[39;00m\u001b[38;5;21;01mpyplot\u001b[39;00m \u001b[38;5;28;01mas\u001b[39;00m \u001b[38;5;21;01mplt\u001b[39;00m\n\u001b[0;32m      6\u001b[0m \u001b[38;5;66;03m# 使用seaborn的regplot函数来绘制回归图\u001b[39;00m\n",
      "\u001b[1;31mModuleNotFoundError\u001b[0m: No module named 'seaborn'"
     ]
    }
   ],
   "source": [
    "# 计算回归方程 y = kx + b\n",
    "from scipy import stats\n",
    "import seaborn as sns\n",
    "import matplotlib.pyplot as plt\n",
    "\n",
    "# 使用seaborn的regplot函数来绘制回归图\n",
    "sns.regplot(x=a_x, y=c_y)\n",
    "\n",
    "# 添加y=0和x=0的线\n",
    "plt.axhline(0, color='black',linewidth=0.5)\n",
    "plt.axvline(0, color='black',linewidth=0.5)\n",
    "# 设置坐标轴的标签和图的标题\n",
    "plt.xlabel('吸光度 A')\n",
    "plt.ylabel('浓度 c ' + r'$(\\mu g/ml)$')\n",
    "plt.title('吸光度与浓度的回归图')\n",
    "\n",
    "# 使用numpy的polyfit函数来拟合数据\n",
    "coefficients = np.polyfit(a_x, c_y, 1)\n",
    "polynomial = np.poly1d(coefficients)\n",
    "# 使用拟合的模型来预测样品的浓度\n",
    "c_0 = polynomial(a_0)\n",
    "# 添加特殊标记\n",
    "# plt.annotate('c_0', xy=(a_0, c_0), xytext=(a_0, c_0 + 2),\n",
    "#              arrowprops=dict(facecolor='black', shrink=0.05))\n",
    "# 添加特殊的点\n",
    "plt.scatter(a_0, c_0, color='red')\n",
    "# 添加虚线的垂直线\n",
    "plt.axvline(a_0, color='red', linestyle='--')\n",
    "plt.axhline(c_0, color='red', linestyle='--')\n",
    "\n",
    "print(f\"预测的样品浓度为：{c_0} ug/ml\")\n",
    "plt.show()\n",
    "print(f\"回归方程为：y = {coefficients[0]}x + {coefficients[1]}\")"
   ]
  },
  {
   "cell_type": "markdown",
   "metadata": {},
   "source": [
    "### 其他参数"
   ]
  },
  {
   "cell_type": "code",
   "execution_count": 38,
   "metadata": {},
   "outputs": [
    {
     "name": "stdout",
     "output_type": "stream",
     "text": [
      "每个点的误差为：[-0.07807276  0.06151483  0.14790826 -0.16169934  0.05472427 -0.02437527]\n",
      "总误差为：0.5282947242970231\n",
      "相关度为：0.9995606759410557\n",
      "决定系数 R² 为：0.9991215448877406\n"
     ]
    },
    {
     "data": {
      "text/html": [
       "<div>\n",
       "<style scoped>\n",
       "    .dataframe tbody tr th:only-of-type {\n",
       "        vertical-align: middle;\n",
       "    }\n",
       "\n",
       "    .dataframe tbody tr th {\n",
       "        vertical-align: top;\n",
       "    }\n",
       "\n",
       "    .dataframe thead th {\n",
       "        text-align: right;\n",
       "    }\n",
       "</style>\n",
       "<table border=\"1\" class=\"dataframe\">\n",
       "  <thead>\n",
       "    <tr style=\"text-align: right;\">\n",
       "      <th></th>\n",
       "      <th>0</th>\n",
       "      <th>1</th>\n",
       "      <th>2</th>\n",
       "      <th>3</th>\n",
       "      <th>4</th>\n",
       "      <th>5</th>\n",
       "    </tr>\n",
       "  </thead>\n",
       "  <tbody>\n",
       "    <tr>\n",
       "      <th>吸光度 A</th>\n",
       "      <td>0.000100</td>\n",
       "      <td>0.036300</td>\n",
       "      <td>0.071600</td>\n",
       "      <td>0.100200</td>\n",
       "      <td>0.137700</td>\n",
       "      <td>0.170200</td>\n",
       "    </tr>\n",
       "    <tr>\n",
       "      <th>浓度 ug/ml</th>\n",
       "      <td>0.000000</td>\n",
       "      <td>2.000000</td>\n",
       "      <td>4.000000</td>\n",
       "      <td>6.000000</td>\n",
       "      <td>8.000000</td>\n",
       "      <td>10.000000</td>\n",
       "    </tr>\n",
       "    <tr>\n",
       "      <th>预测浓度</th>\n",
       "      <td>-0.078073</td>\n",
       "      <td>2.061515</td>\n",
       "      <td>4.147908</td>\n",
       "      <td>5.838301</td>\n",
       "      <td>8.054724</td>\n",
       "      <td>9.975625</td>\n",
       "    </tr>\n",
       "    <tr>\n",
       "      <th>误差</th>\n",
       "      <td>-0.078073</td>\n",
       "      <td>0.061515</td>\n",
       "      <td>0.147908</td>\n",
       "      <td>-0.161699</td>\n",
       "      <td>0.054724</td>\n",
       "      <td>-0.024375</td>\n",
       "    </tr>\n",
       "  </tbody>\n",
       "</table>\n",
       "</div>"
      ],
      "text/plain": [
       "                 0         1         2         3         4          5\n",
       "吸光度 A     0.000100  0.036300  0.071600  0.100200  0.137700   0.170200\n",
       "浓度 ug/ml  0.000000  2.000000  4.000000  6.000000  8.000000  10.000000\n",
       "预测浓度     -0.078073  2.061515  4.147908  5.838301  8.054724   9.975625\n",
       "误差       -0.078073  0.061515  0.147908 -0.161699  0.054724  -0.024375"
      ]
     },
     "execution_count": 38,
     "metadata": {},
     "output_type": "execute_result"
    }
   ],
   "source": [
    "# 计算每个点的预测值\n",
    "y_pred = polynomial(a_x)\n",
    "# 计算每个点的误差\n",
    "errors = y_pred - c_y\n",
    "# 计算总误差\n",
    "total_error = np.sum(np.abs(errors))\n",
    "# 计算相关度（Pearson correlation coefficient）\n",
    "correlation, _ = stats.pearsonr(a_x, c_y)\n",
    "# 计算R²（决定系数）\n",
    "r_squared = np.corrcoef(c_y, y_pred)[0, 1]**2\n",
    "# 打印结果\n",
    "print(f\"每个点的误差为：{errors}\")\n",
    "print(f\"总误差为：{total_error}\")\n",
    "print(f\"相关度为：{correlation}\")\n",
    "print(f\"决定系数 R² 为：{r_squared}\")\n",
    "# 创建一个数据框来显示结果\n",
    "df = pd.DataFrame({\n",
    "    '吸光度 A': a_x,\n",
    "    '浓度 ug/ml': c_y,\n",
    "    '预测浓度': y_pred,\n",
    "    '误差': errors\n",
    "})\n",
    "df.T"
   ]
  },
  {
   "cell_type": "code",
   "execution_count": 39,
   "metadata": {},
   "outputs": [
    {
     "data": {
      "text/plain": [
       "0.05815166958216087"
      ]
     },
     "execution_count": 39,
     "metadata": {},
     "output_type": "execute_result"
    }
   ],
   "source": [
    "0.4361375218662065*10/(5*15)"
   ]
  },
  {
   "cell_type": "markdown",
   "metadata": {
    "vscode": {
     "languageId": "latex"
    }
   },
   "source": [
    "$$\n",
    "C_0 = 0.4361375218662065 \\, \\mu g/ml \\\\ \\quad \\\\\n",
    "\\begin{align*}\n",
    "C &= \\frac{10 \\cdot C_0}{5 \\cdot 15} \\\\\n",
    "&= 0.05815166958216087 \\, mg/m^3 \\\\\n",
    "&= 58.15166958216087\n",
    "\\, \\mu g/m^3\n",
    "\\end{align*}\n",
    "$$\n",
    "\n",
    "$$\n",
    "% \\hspace{1cm} \n",
    "超过了国标的 0.5 \\mu g/m^3 \\hspace{1.5cm} \n",
    "% \\hspace{99cm}\n",
    "$$"
   ]
  },
  {
   "cell_type": "markdown",
   "metadata": {},
   "source": [
    "## 相关资料\n",
    "\n",
    "### 国标\n",
    "\n",
    "0.5 $\\mu g/m^3$\n",
    "\n",
    "### learn 吸光度\n",
    "\n",
    "吸光度通常用希腊字母 \"A\"（表示 \"Absorbance\"）表示，或者用 \"OD\"（表示 \"Optical Density\"）。在一些文献中，你也可能看到用 \"E\"（表示 \"Extinction\"）表示吸光度。\n",
    "\n",
    "吸光度（Absorbance）通常没有单位，因为它是一个比值，是透射光强度和入射光强度的对数比。在实际应用中，你可能会看到吸光度值前面有一个单位“AU”（Absorbance Units），但这只是为了强调这是一个吸光度值，实际上吸光度是没有单位的。"
   ]
  },
  {
   "cell_type": "markdown",
   "metadata": {},
   "source": []
  }
 ],
 "metadata": {
  "kernelspec": {
   "display_name": "base",
   "language": "python",
   "name": "python3"
  },
  "language_info": {
   "codemirror_mode": {
    "name": "ipython",
    "version": 3
   },
   "file_extension": ".py",
   "mimetype": "text/x-python",
   "name": "python",
   "nbconvert_exporter": "python",
   "pygments_lexer": "ipython3",
   "version": "3.10.14"
  }
 },
 "nbformat": 4,
 "nbformat_minor": 2
}
