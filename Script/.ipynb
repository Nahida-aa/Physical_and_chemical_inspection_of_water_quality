{
 "cells": [
  {
   "cell_type": "markdown",
   "metadata": {},
   "source": [
    "init "
   ]
  },
  {
   "cell_type": "code",
   "execution_count": 31,
   "metadata": {},
   "outputs": [],
   "source": [
    "import os\n",
    "\n",
    "class DirectoryManager:\n",
    "    def __init__(self):\n",
    "        self.current_dir = os.getcwd()\n",
    "        self.previous_dir = None\n",
    "\n",
    "    def cd(self, path=None):\n",
    "        # if path=None : \n",
    "        # cd (cmd) pwd (bash)\n",
    "        \n",
    "        # Change the working directory\n",
    "        if path is not None:\n",
    "            if path == '-':\n",
    "                if self.previous_dir is not None:\n",
    "                    os.chdir(self.previous_dir)\n",
    "                    self.previous_dir = self.current_dir\n",
    "            elif path == '~':\n",
    "                os.chdir(os.path.expanduser('~'))\n",
    "                self.previous_dir = self.current_dir\n",
    "            else:\n",
    "                os.chdir(path)\n",
    "                self.previous_dir = self.current_dir\n",
    "\n",
    "        self.current_dir = os.getcwd()\n",
    "\n",
    "        # Print the current directory\n",
    "        print(self.current_dir)\n",
    "\n",
    "dm = DirectoryManager()\n",
    "# dm.cd('/path/to/directory')  # Change to a specific directory\n",
    "# dm.cd('-')  # Change to the previous directory\n",
    "# dm.cd('~')  # Change to the home directory\n",
    "# dm.cd()  # Print the current directory"
   ]
  },
  {
   "cell_type": "markdown",
   "metadata": {},
   "source": [
    "请注意，`__file__` 只在脚本被直接运行时有效。如果你在交互式 Python 解释器中或在 Jupyter notebook 中使用 `__file__`，可能会得到一个 `NameError`，因为在这些环境中没有当前脚本的概念。\n",
    "```Python\n",
    "# Get the path of the current script\n",
    "script_path = os.path.abspath(__file__)\n",
    "\n",
    "# Print the path of the current script\n",
    "print(\"The path of the current script is:\", script_path)\n",
    "\n",
    "# Get the directory of the current script\n",
    "script_dir = os.path.dirname(script_path)\n",
    "\n",
    "# Print the directory of the current script\n",
    "print(\"The directory of the current script is:\", script_dir)\n",
    "```"
   ]
  },
  {
   "cell_type": "code",
   "execution_count": 30,
   "metadata": {},
   "outputs": [
    {
     "name": "stdout",
     "output_type": "stream",
     "text": [
      "d:\\Documents\\Sanitary_Inspection_and_Quarantine\\Physical_and_chemical_inspection_of_water_quality\n"
     ]
    }
   ],
   "source": [
    "dm.cd('Physical_and_chemical_inspection_of_water_quality')"
   ]
  },
  {
   "cell_type": "code",
   "execution_count": 33,
   "metadata": {},
   "outputs": [
    {
     "name": "stdout",
     "output_type": "stream",
     "text": [
      "C:\\Users\\aa\n"
     ]
    }
   ],
   "source": [
    "dm.cd('~')"
   ]
  },
  {
   "cell_type": "code",
   "execution_count": 38,
   "metadata": {},
   "outputs": [
    {
     "name": "stdout",
     "output_type": "stream",
     "text": [
      "d:\\Documents\\Sanitary_Inspection_and_Quarantine\\Physical_and_chemical_inspection_of_water_quality\n"
     ]
    }
   ],
   "source": [
    "dm.cd('-')"
   ]
  },
  {
   "cell_type": "code",
   "execution_count": 36,
   "metadata": {},
   "outputs": [],
   "source": [
    "# create a new none file\n",
    "with open('.gitignore', 'w') as f:\n",
    "    pass"
   ]
  },
  {
   "cell_type": "code",
   "execution_count": 2,
   "metadata": {},
   "outputs": [
    {
     "name": "stdout",
     "output_type": "stream",
     "text": [
      ".ipynb\n",
      "cmd.bat\n",
      "pwsh.ps1\n",
      "script.py\n"
     ]
    }
   ],
   "source": [
    "import os\n",
    "\n",
    "# Get list of files and directories\n",
    "files_and_directories = os.listdir('.')\n",
    "\n",
    "# Print list of files and directories\n",
    "for item in files_and_directories:\n",
    "    print(item)"
   ]
  },
  {
   "cell_type": "markdown",
   "metadata": {},
   "source": [
    "tree 是一个在命令行中以图形方式显示驱动器或路径的文件夹结构的命令。以下是参数的详细解释：\n",
    "\n",
    "- [drive:][path]：这是你想要显示的驱动器或路径。如果你不提供这个参数，tree 将显示当前驱动器或路径的文件夹结构。\n",
    "\n",
    "- /F：这个参数告诉 tree 在每个文件夹中显示文件的名称。如果你不提供这个参数，tree 将只显示文件夹。\n",
    "\n",
    "- /A：这个参数告诉 tree 使用 ASCII 字符而不是扩展字符。如果你不提供这个参数，tree 将使用扩展字符来显示文件夹结构。\n",
    "\n",
    "例如，如果你想要显示 C 驱动器的文件夹结构，并且你想要显示每个文件夹中的文件，你可以运行以下命令：\n",
    "\n",
    "```bat\n",
    "tree C:\\ /F\n",
    "```\n",
    "如果你想要使用 ASCII 字符，你可以添加 /A 参数：\n",
    "```bat\n",
    "tree C:\\ /F /A\n",
    "```"
   ]
  },
  {
   "cell_type": "code",
   "execution_count": 4,
   "metadata": {},
   "outputs": [
    {
     "name": "stdout",
     "output_type": "stream",
     "text": [
      "d:\\Documents\\Sanitary_Inspection_and_Quarantine\\Physical_and_chemical_inspection_of_water_quality\\Script\n",
      "  .ipynb\n",
      "  cmd.bat\n",
      "  pwsh.ps1\n",
      "  script.py\n"
     ]
    }
   ],
   "source": [
    "import os\n",
    "\n",
    "def print_directory_tree(path, indent=0):\n",
    "    # Print the actual name for the root directory\n",
    "    if indent == 0:\n",
    "        print(os.path.abspath(path))\n",
    "    else:\n",
    "        print(' ' * indent + os.path.basename(path))\n",
    "    \n",
    "    if os.path.isdir(path):\n",
    "        for item in os.listdir(path):\n",
    "            print_directory_tree(os.path.join(path, item), indent + 2)\n",
    "\n",
    "# Print the directory tree\n",
    "print_directory_tree('.')"
   ]
  },
  {
   "cell_type": "code",
   "execution_count": 1,
   "metadata": {},
   "outputs": [
    {
     "ename": "FileNotFoundError",
     "evalue": "[WinError 2] 系统找不到指定的文件。: 'filename.txt'",
     "output_type": "error",
     "traceback": [
      "\u001b[1;31m---------------------------------------------------------------------------\u001b[0m",
      "\u001b[1;31mFileNotFoundError\u001b[0m                         Traceback (most recent call last)",
      "Cell \u001b[1;32mIn[1], line 5\u001b[0m\n\u001b[0;32m      2\u001b[0m \u001b[38;5;28;01mimport\u001b[39;00m \u001b[38;5;21;01mos\u001b[39;00m\n\u001b[0;32m      4\u001b[0m \u001b[38;5;66;03m# Get file properties\u001b[39;00m\n\u001b[1;32m----> 5\u001b[0m properties \u001b[38;5;241m=\u001b[39m \u001b[43mos\u001b[49m\u001b[38;5;241;43m.\u001b[39;49m\u001b[43mstat\u001b[49m\u001b[43m(\u001b[49m\u001b[38;5;124;43m'\u001b[39;49m\u001b[38;5;124;43mfilename.txt\u001b[39;49m\u001b[38;5;124;43m'\u001b[39;49m\u001b[43m)\u001b[49m\n\u001b[0;32m      7\u001b[0m \u001b[38;5;66;03m# Print file properties\u001b[39;00m\n\u001b[0;32m      8\u001b[0m \u001b[38;5;28mprint\u001b[39m(properties)\n",
      "\u001b[1;31mFileNotFoundError\u001b[0m: [WinError 2] 系统找不到指定的文件。: 'filename.txt'"
     ]
    }
   ],
   "source": [
    "# 查看文件的属性\n",
    "import os\n",
    "\n",
    "# Get file properties\n",
    "properties = os.stat('filename.txt')\n",
    "\n",
    "# Print file properties\n",
    "print(properties)"
   ]
  }
 ],
 "metadata": {
  "kernelspec": {
   "display_name": "ai_310",
   "language": "python",
   "name": "python3"
  },
  "language_info": {
   "codemirror_mode": {
    "name": "ipython",
    "version": 3
   },
   "file_extension": ".py",
   "mimetype": "text/x-python",
   "name": "python",
   "nbconvert_exporter": "python",
   "pygments_lexer": "ipython3",
   "version": "3.10.13"
  }
 },
 "nbformat": 4,
 "nbformat_minor": 2
}
